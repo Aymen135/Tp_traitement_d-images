{
 "cells": [
  {
   "cell_type": "code",
   "execution_count": 103,
   "metadata": {},
   "outputs": [],
   "source": [
    "import cv2\n",
    "import pandas as pd\n",
    "import numpy as np\n",
    "import matplotlib.pyplot as plt\n",
    "import time"
   ]
  },
  {
   "cell_type": "code",
   "execution_count": 104,
   "metadata": {},
   "outputs": [],
   "source": [
    "video=cv2.VideoCapture(\"Resources/Cars.mp4\",)"
   ]
  },
  {
   "cell_type": "code",
   "execution_count": 105,
   "metadata": {},
   "outputs": [
    {
     "data": {
      "text/plain": [
       "755"
      ]
     },
     "execution_count": 105,
     "metadata": {},
     "output_type": "execute_result"
    }
   ],
   "source": [
    "video_length = int(video.get(cv2.CAP_PROP_FRAME_COUNT))\n",
    "video_length"
   ]
  },
  {
   "cell_type": "code",
   "execution_count": 106,
   "metadata": {},
   "outputs": [
    {
     "data": {
      "text/plain": [
       "25.011331420641746"
      ]
     },
     "execution_count": 106,
     "metadata": {},
     "output_type": "execute_result"
    }
   ],
   "source": [
    "fps = video.get(cv2.CAP_PROP_FPS)\n",
    "fps"
   ]
  },
  {
   "cell_type": "code",
   "execution_count": 107,
   "metadata": {},
   "outputs": [
    {
     "data": {
      "text/plain": [
       "25"
      ]
     },
     "execution_count": 107,
     "metadata": {},
     "output_type": "execute_result"
    }
   ],
   "source": [
    "length = int(cv2.VideoCapture.get(video,propId=5))\n",
    "length"
   ]
  },
  {
   "cell_type": "code",
   "execution_count": 108,
   "metadata": {},
   "outputs": [
    {
     "name": "stdout",
     "output_type": "stream",
     "text": [
      "height= 360.0 width= 640.0\n"
     ]
    }
   ],
   "source": [
    "width = video.get(cv2.CAP_PROP_FRAME_WIDTH)\n",
    "height= video.get(cv2.CAP_PROP_FRAME_HEIGHT)\n",
    "print(\"height= {} width= {}\".format(height,width))"
   ]
  },
  {
   "cell_type": "code",
   "execution_count": 109,
   "metadata": {},
   "outputs": [],
   "source": [
    "while(video.isOpened()):\n",
    "  ret, frame = video.read()\n",
    "  if ret == True:\n",
    "    cv2.imshow('Frame',frame)\n",
    "    if cv2.waitKey(25) & 0xFF == ord('q'):\n",
    "      break\n",
    "  else: \n",
    "    break\n",
    "video.release()\n",
    "cv2.destroyAllWindows()"
   ]
  },
  {
   "cell_type": "markdown",
   "metadata": {},
   "source": [
    "<b>Extraction d'une image </b>"
   ]
  },
  {
   "cell_type": "code",
   "execution_count": 110,
   "metadata": {},
   "outputs": [],
   "source": [
    "time_start = time.time()\n",
    "video1= cv2.VideoCapture(\"Resources/Cars.mp4\")\n",
    "count=20\n",
    "while (True ):\n",
    "    ret, frame = video1.read()\n",
    "    if not ret & (count>=20 & count<=30):\n",
    "        continue\n",
    "    cv2.imwrite(\"Resources/Image/\" + \"/%#05d.jpg\" % (count), frame)\n",
    "    count = count + 1\n",
    "    if (count > 30):\n",
    "        time_end = time.time()\n",
    "        video1.release()\n",
    "        break"
   ]
  },
  {
   "cell_type": "markdown",
   "metadata": {},
   "source": [
    "<b>Création de vidéo et étude d’impact de compression</b>"
   ]
  },
  {
   "cell_type": "markdown",
   "metadata": {},
   "source": [
    "Videowriter(){<br>\n",
    "    filenam : nom du video<br>\n",
    "    fourcc: Code pour la compression du video<br>\n",
    "    fps : nombre de frame par seconde du video<br>\n",
    "    frameSize : Taille des images video<br> \n",
    "}"
   ]
  },
  {
   "cell_type": "code",
   "execution_count": 138,
   "metadata": {},
   "outputs": [],
   "source": [
    "cap=cv2.VideoCapture(\"Resources/Cars.mp4\")\n",
    "out=cv2.VideoWriter(\"Resources/Video/video1.avi\",0,10,(640,360))\n",
    "for i in range(20):\n",
    "    ret, frame = cap.read()\n",
    "    if ret==True:\n",
    "    \n",
    "\n",
    "        out.write(frame)\n",
    "        cv2.imshow('frame',frame)\n",
    "        if cv2.waitKey(1) & 0xFF == ord('q'):\n",
    "            break\n",
    "    else:\n",
    "        break\n",
    "cap.release()\n",
    "\n",
    "out.release()\n",
    "\n",
    "cv2.destroyAllWindows()"
   ]
  },
  {
   "cell_type": "code",
   "execution_count": 139,
   "metadata": {},
   "outputs": [],
   "source": [
    "cap=cv2.VideoCapture(\"Resources/Cars.mp4\")\n",
    "fourcc = cv2.VideoWriter_fourcc(*'FMP4')\n",
    "out=cv2.VideoWriter(\"Resources/Video/video3.avi\",fourcc,10,(640,360))\n",
    "for i in range(20):\n",
    "    ret, frame = cap.read()\n",
    "    if ret==True:\n",
    "    \n",
    "\n",
    "        out.write(frame)\n",
    "        cv2.imshow('frame',frame)\n",
    "        if cv2.waitKey(1) & 0xFF == ord('q'):\n",
    "            break\n",
    "    else:\n",
    "        break\n",
    "cap.release()\n",
    "\n",
    "out.release()\n",
    "\n",
    "cv2.destroyAllWindows()\n"
   ]
  },
  {
   "cell_type": "code",
   "execution_count": 140,
   "metadata": {},
   "outputs": [],
   "source": [
    "cap=cv2.VideoCapture(\"Resources/Cars.mp4\")\n",
    "fourcc = cv2.VideoWriter_fourcc(*'XVID')\n",
    "out=cv2.VideoWriter(\"Resources/Video/video2.avi\",fourcc,10,(640,360))\n",
    "for i in range(20):\n",
    "    ret, frame = cap.read()\n",
    "    if ret==True:\n",
    "    \n",
    "\n",
    "        out.write(frame)\n",
    "        cv2.imshow('frame',frame)\n",
    "        if cv2.waitKey(1) & 0xFF == ord('q'):\n",
    "            break\n",
    "    else:\n",
    "        break\n",
    "cap.release()\n",
    "\n",
    "out.release()\n",
    "\n",
    "cv2.destroyAllWindows()\n"
   ]
  },
  {
   "cell_type": "code",
   "execution_count": 141,
   "metadata": {},
   "outputs": [],
   "source": [
    "cap=cv2.VideoCapture(\"Resources/Cars.mp4\")\n",
    "fourcc = cv2.VideoWriter_fourcc(*'PIM4')\n",
    "out=cv2.VideoWriter(\"Resources/Video/video4.avi\",fourcc,10,(640,360))\n",
    "for i in range(20):\n",
    "    ret, frame = cap.read()\n",
    "    if ret==True:\n",
    "    \n",
    "\n",
    "        out.write(frame)\n",
    "        cv2.imshow('frame',frame)\n",
    "        if cv2.waitKey(1) & 0xFF == ord('q'):\n",
    "            break\n",
    "    else:\n",
    "        break\n",
    "cap.release()\n",
    "\n",
    "out.release()\n",
    "\n",
    "cv2.destroyAllWindows()\n"
   ]
  },
  {
   "cell_type": "code",
   "execution_count": 142,
   "metadata": {},
   "outputs": [],
   "source": [
    "cap=cv2.VideoCapture(\"Resources/Cars.mp4\")\n",
    "fourcc = cv2.VideoWriter_fourcc(*'MJPG')\n",
    "out=cv2.VideoWriter(\"Resources/Video/video5.avi\",fourcc,10,(640,360))\n",
    "for i in range(20):\n",
    "    ret, frame = cap.read()\n",
    "    if ret==True:\n",
    "    \n",
    "\n",
    "        out.write(frame)\n",
    "        cv2.imshow('frame',frame)\n",
    "        if cv2.waitKey(1) & 0xFF == ord('q'):\n",
    "            break\n",
    "    else:\n",
    "        break\n",
    "cap.release()\n",
    "\n",
    "out.release()\n",
    "\n",
    "cv2.destroyAllWindows()\n"
   ]
  },
  {
   "cell_type": "code",
   "execution_count": 144,
   "metadata": {},
   "outputs": [],
   "source": [
    "cap=cv2.VideoCapture(\"Resources/Cars.mp4\")\n",
    "fourcc = cv2.VideoWriter_fourcc(*'MJPG')\n",
    "out=cv2.VideoWriter(\"Resources/Video/video55.avi\",fourcc,20,(640,360))\n",
    "for i in range(20):\n",
    "    ret, frame = cap.read()\n",
    "    if ret==True:\n",
    "    \n",
    "\n",
    "        out.write(frame)\n",
    "        cv2.imshow('frame',frame)\n",
    "        if cv2.waitKey(1) & 0xFF == ord('q'):\n",
    "            break\n",
    "    else:\n",
    "        break\n",
    "cap.release()\n",
    "\n",
    "out.release()\n",
    "\n",
    "cv2.destroyAllWindows()"
   ]
  },
  {
   "cell_type": "code",
   "execution_count": 151,
   "metadata": {},
   "outputs": [
    {
     "name": "stdout",
     "output_type": "stream",
     "text": [
      "6918166\n",
      "214736\n",
      "214736\n"
     ]
    }
   ],
   "source": [
    "import os\n",
    "t1=os.path.getsize(\"Resources/Video/video1.avi\")\n",
    "t2=os.path.getsize(\"Resources/Video/video2.avi\")\n",
    "t3=os.path.getsize(\"Resources/Video/video3.avi\")\n",
    "t4=os.path.getsize(\"Resources/Video/video4.avi\")\n",
    "t5=os.path.getsize(\"Resources/Video/video5.avi\")\n",
    "t55=os.path.getsize(\"Resources/Video/video55.avi\")\n",
    "print(t1)\n",
    "print(t2)\n",
    "print(t3)"
   ]
  },
  {
   "cell_type": "code",
   "execution_count": 152,
   "metadata": {},
   "outputs": [
    {
     "name": "stdout",
     "output_type": "stream",
     "text": [
      "0.9495441528809011\n",
      "0.029473318971102048\n",
      "0.029473318971102048\n",
      "0.0\n",
      "0.04656635065365721\n"
     ]
    }
   ],
   "source": [
    "tcars=os.path.getsize(\"Resources/Cars.mp4\")\n",
    "\n",
    "tauxcomp1=t1/tcars\n",
    "tauxcomp2=t2/tcars\n",
    "tauxcomp3=t3/tcars\n",
    "tauxcomp4=t4/tcars\n",
    "tauxcomp5=t5/tcars\n",
    "\n",
    "print(tauxcomp1)\n",
    "print(tauxcomp2)\n",
    "print(tauxcomp3)\n",
    "print(tauxcomp4)\n",
    "print(tauxcomp5)\n"
   ]
  },
  {
   "cell_type": "markdown",
   "metadata": {},
   "source": [
    "le taux de compression varie selon le fourcc avec la compression FMP4 est la meilleure puis\n",
    "XVID-MJPG-PIM4"
   ]
  }
 ],
 "metadata": {
  "kernelspec": {
   "display_name": "Python 3.9.6 64-bit",
   "language": "python",
   "name": "python3"
  },
  "language_info": {
   "codemirror_mode": {
    "name": "ipython",
    "version": 3
   },
   "file_extension": ".py",
   "mimetype": "text/x-python",
   "name": "python",
   "nbconvert_exporter": "python",
   "pygments_lexer": "ipython3",
   "version": "3.9.6"
  },
  "orig_nbformat": 4,
  "vscode": {
   "interpreter": {
    "hash": "7631773df7a20f76ce0129852d6286a048d5c426a0098a673052d93f81596669"
   }
  }
 },
 "nbformat": 4,
 "nbformat_minor": 2
}
