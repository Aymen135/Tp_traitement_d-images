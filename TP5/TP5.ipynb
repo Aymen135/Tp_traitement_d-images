{
 "cells": [
  {
   "cell_type": "markdown",
   "metadata": {},
   "source": [
    "# TP5:  Compression vidéo : Modules de prédiction. \n",
    "                                                                               Nom: BEN SAID\n",
    "                                                                               Prénom: Aymen\n",
    "                                                                               Groupe: 2IDSD2\n",
    "\n",
    "Vu que la vidéo est une donnée très volumineuse pour le stockage ainsi que pour le transfert sur réseau, la compression vidéo est une étape mondiales pour communiquer et manipuler des vidéos, surtout de grande définition ou résolution. \n",
    "\n",
    "Plusieurs standards compression vidéo ont vu le jour pour améliorer à chaque fois le débit binaire, le taux de compression tout en gardant la même qualité d'images.\n",
    "A travers les standards de compression vidéo, la chaine de codage et de décodage ont gardé la même allure. Par contre les détails des modules de la chaine de codec ont évolué d'un standard à un autre. \n",
    "Le principe du codec hybride a été toujours la base de ces standard. En effet, un codec hybride se base sur la prédiction Intra et Inter qui profite respectivement de la redondance spatiale et la redondance temporelle.\n",
    "\n",
    "Ce TP a pour but de comparer deux images d'une vidéo de test afin de détecter les redondance temporelle traitée par le module \" Inter Prédiction \" de la chaine d'encodage.\n",
    "\n",
    "Les étapes à suivre sont :"
   ]
  },
  {
   "cell_type": "markdown",
   "metadata": {},
   "source": [
    "\n",
    "\n",
    "## A. Lecture de video\n",
    "1- Lire la vidéo 'akiyo-cif-clip.mp4' à partir de votre répertoire de travail.\n",
    "\n",
    "2- Séparer les images de la vidéo et sauvegarder l'image 4 et 5 dans un répertoire Images sous le nom ImageRef,ImageSRC.\n",
    "\n",
    "3- comparer les deux images résultantes et interpréter.\n",
    "\n",
    "4- Afficher la difference entre les deux images.\n",
    "\n",
    "\n"
   ]
  },
  {
   "cell_type": "code",
   "execution_count": 1,
   "metadata": {},
   "outputs": [],
   "source": [
    "import cv2\n",
    "import pandas as pd\n",
    "import numpy as np\n",
    "import matplotlib.pyplot as plt\n",
    "import time"
   ]
  },
  {
   "cell_type": "code",
   "execution_count": 3,
   "metadata": {},
   "outputs": [],
   "source": [
    "import cv2\n",
    "video=cv2.VideoCapture(\"akiyo-cif-clip.mp4\")\n"
   ]
  },
  {
   "cell_type": "code",
   "execution_count": 4,
   "metadata": {},
   "outputs": [],
   "source": [
    "while(video.isOpened()):\n",
    "  ret, frame = video.read()\n",
    "  if ret == True:\n",
    "    cv2.imshow('Frame',frame)\n",
    "    if cv2.waitKey(25) & 0xFF == ord('q'):\n",
    "      break\n",
    "  else: \n",
    "    break\n",
    "video.release()\n",
    "cv2.destroyAllWindows()"
   ]
  },
  {
   "cell_type": "code",
   "execution_count": 3,
   "metadata": {},
   "outputs": [],
   "source": [
    "time_start = time.time()\n",
    "video1= cv2.VideoCapture(\"akiyo-cif-clip.mp4\")\n",
    "count=0\n",
    "while (True ):\n",
    "    ret, frame = video1.read()\n",
    "    if not ret or count>5:\n",
    "        break\n",
    "    if(count==4):\n",
    "        imref=frame\n",
    "        cv2.imwrite(\"C:/Users/MSI/Desktop/Work/2eme/Tp_traitement_d'images/TP5/ImageRef.jpg\",frame)\n",
    "    if(count == 5):\n",
    "        imsrc=frame\n",
    "        cv2.imwrite(\"C:/Users/MSI/Desktop/Work/2eme/Tp_traitement_d'images/TP5/ImageSRC.jpg\",frame)\n",
    "    count = count + 1"
   ]
  },
  {
   "cell_type": "code",
   "execution_count": 9,
   "metadata": {},
   "outputs": [
    {
     "data": {
      "text/plain": [
       "<matplotlib.image.AxesImage at 0x232206f3f40>"
      ]
     },
     "execution_count": 9,
     "metadata": {},
     "output_type": "execute_result"
    },
    {
     "data": {
      "image/png": "[encoded data removed]",
      "text/plain": [
       "<Figure size 432x288 with 1 Axes>"
      ]
     },
     "metadata": {
      "needs_background": "light"
     },
     "output_type": "display_data"
    }
   ],
   "source": [
    "import matplotlib.pyplot as plt\n",
    "diff_img=imsrc-imref\n",
    "plt.imshow(diff_img)\n"
   ]
  },
  {
   "cell_type": "markdown",
   "metadata": {},
   "source": [
    "## B. Comparer les images \n",
    "\n",
    "Pour pouvoir chercher les différences entre deux images, on va faire recours à une métrique de comparaison de blocs d'images pixel par pixel. Cette métrique est la fonction SAD .\n",
    "SAD : Sum of Absolute Difference\n",
    "L’algorithme SAD calcule la différence en valeur absolue entre un bloc source (16x16 pixels) et un bloc d’une image de référence (16x16 pixels).\n",
    "Utiliser dans le traitement d’image et vidéo, pour calculer la différence entre 2 images :\n",
    "$$ SAD= \\sum_{i=0}^{16} \\sum_{j=0}^{16}|src(i,j)-ref(i,j)| $$\n",
    "\n",
    "1- Développer la fonction SAD \n",
    "\n",
    "2- Appliquer SAD sur deux images successives de la vidéo akiyo. Soit les images 4 et 5.\n"
   ]
  },
  {
   "cell_type": "code",
   "execution_count": 51,
   "metadata": {},
   "outputs": [
    {
     "data": {
      "text/plain": [
       "673585"
      ]
     },
     "execution_count": 51,
     "metadata": {},
     "output_type": "execute_result"
    }
   ],
   "source": [
    "def sad(im2,im1):\n",
    "    im21=im2.flatten()\n",
    "    im11=im1.flatten()\n",
    "    l=[]\n",
    "    im_size=im21.shape[0]\n",
    "    return (sum(abs(im21-im11)))\n",
    "\n",
    "sad(imref,imsrc)"
   ]
  },
  {
   "cell_type": "markdown",
   "metadata": {},
   "source": [
    "\n",
    "## C. Principe de prediction Inter \n",
    "1- Appliquer la fonction SAD pour chercher les macroblocks les plus similaires dans toutes l'image.\n",
    "Interpréter.\n",
    "2- La recherche d'un macroblock dans une image est trés couteux en termes de nombre de cycles. Limiter la recherche dans une zone de 3x3 macroblock."
   ]
  },
  {
   "cell_type": "code",
   "execution_count": 59,
   "metadata": {},
   "outputs": [],
   "source": [
    "def diff(im2,im1):\n",
    "    l=[]\n",
    "    im21=im2.flatten()\n",
    "    im11=im1.flatten()\n",
    "    bs=16*16\n",
    "    im_size=im21.shape[0]\n",
    "    for i in range(im_size//bs):\n",
    "        l.append(sad(im21[(i)*bs:(i+1)*bs],im11[(i)*bs:(i+1)*bs]))\n",
    "    return l"
   ]
  },
  {
   "cell_type": "code",
   "execution_count": 60,
   "metadata": {},
   "outputs": [
    {
     "data": {
      "text/plain": [
       "734"
      ]
     },
     "execution_count": 60,
     "metadata": {},
     "output_type": "execute_result"
    }
   ],
   "source": [
    "diff(imref,imsrc).count(0)"
   ]
  }
 ],
 "metadata": {
  "kernelspec": {
   "display_name": "Python 3.9.6 64-bit",
   "language": "python",
   "name": "python3"
  },
  "language_info": {
   "codemirror_mode": {
    "name": "ipython",
    "version": 3
   },
   "file_extension": ".py",
   "mimetype": "text/x-python",
   "name": "python",
   "nbconvert_exporter": "python",
   "pygments_lexer": "ipython3",
   "version": "3.9.6"
  },
  "vscode": {
   "interpreter": {
    "hash": "7631773df7a20f76ce0129852d6286a048d5c426a0098a673052d93f81596669"
   }
  }
 },
 "nbformat": 4,
 "nbformat_minor": 4
}
